{
 "cells": [
  {
   "cell_type": "code",
   "execution_count": 1,
   "metadata": {},
   "outputs": [],
   "source": [
    "import pandas as pd\n",
    "import numpy as np\n",
    "%matplotlib inline\n",
    "from matplotlib import pyplot as plt\n",
    "import scipy.stats as stats"
   ]
  },
  {
   "cell_type": "code",
   "execution_count": 8,
   "metadata": {},
   "outputs": [
    {
     "data": {
      "text/html": [
       "<div>\n",
       "<style scoped>\n",
       "    .dataframe tbody tr th:only-of-type {\n",
       "        vertical-align: middle;\n",
       "    }\n",
       "\n",
       "    .dataframe tbody tr th {\n",
       "        vertical-align: top;\n",
       "    }\n",
       "\n",
       "    .dataframe thead th {\n",
       "        text-align: right;\n",
       "    }\n",
       "</style>\n",
       "<table border=\"1\" class=\"dataframe\">\n",
       "  <thead>\n",
       "    <tr style=\"text-align: right;\">\n",
       "      <th></th>\n",
       "      <th>Date (Quarterly)</th>\n",
       "      <th>NorthEast AHP</th>\n",
       "      <th>MidWest AHP</th>\n",
       "      <th>West AHP</th>\n",
       "      <th>South AHP</th>\n",
       "    </tr>\n",
       "  </thead>\n",
       "  <tbody>\n",
       "    <tr>\n",
       "      <th>0</th>\n",
       "      <td>1/1/1975</td>\n",
       "      <td>47300</td>\n",
       "      <td>41800</td>\n",
       "      <td>42300</td>\n",
       "      <td>38000</td>\n",
       "    </tr>\n",
       "    <tr>\n",
       "      <th>1</th>\n",
       "      <td>4/1/1975</td>\n",
       "      <td>46400</td>\n",
       "      <td>44000</td>\n",
       "      <td>43600</td>\n",
       "      <td>39800</td>\n",
       "    </tr>\n",
       "    <tr>\n",
       "      <th>2</th>\n",
       "      <td>7/1/1975</td>\n",
       "      <td>47400</td>\n",
       "      <td>42900</td>\n",
       "      <td>43600</td>\n",
       "      <td>39200</td>\n",
       "    </tr>\n",
       "    <tr>\n",
       "      <th>3</th>\n",
       "      <td>10/1/1975</td>\n",
       "      <td>47700</td>\n",
       "      <td>44500</td>\n",
       "      <td>47400</td>\n",
       "      <td>41300</td>\n",
       "    </tr>\n",
       "    <tr>\n",
       "      <th>4</th>\n",
       "      <td>1/1/1976</td>\n",
       "      <td>48600</td>\n",
       "      <td>45100</td>\n",
       "      <td>49200</td>\n",
       "      <td>43000</td>\n",
       "    </tr>\n",
       "  </tbody>\n",
       "</table>\n",
       "</div>"
      ],
      "text/plain": [
       "  Date (Quarterly)  NorthEast AHP  MidWest AHP  West AHP  South AHP\n",
       "0         1/1/1975          47300        41800     42300      38000\n",
       "1         4/1/1975          46400        44000     43600      39800\n",
       "2         7/1/1975          47400        42900     43600      39200\n",
       "3        10/1/1975          47700        44500     47400      41300\n",
       "4         1/1/1976          48600        45100     49200      43000"
      ]
     },
     "execution_count": 8,
     "metadata": {},
     "output_type": "execute_result"
    }
   ],
   "source": [
    "# import housing file\n",
    "housing_file_region = \"Housing Prices by region.csv\"\n",
    "housing_data_region = pd.read_csv(housing_file_region)\n",
    "housing_region = housing_data_region.rename(columns={\"DATE\":\"Date (Quarterly)\", \"ASPNE\": \"NorthEast AHP\", \"ASPMW\": \"MidWest AHP\", \"ASPW\": \"West AHP\", \"ASPS\": \"South AHP\"})\n",
    "housing_region.head()"
   ]
  },
  {
   "cell_type": "code",
   "execution_count": 9,
   "metadata": {},
   "outputs": [
    {
     "data": {
      "text/html": [
       "<div>\n",
       "<style scoped>\n",
       "    .dataframe tbody tr th:only-of-type {\n",
       "        vertical-align: middle;\n",
       "    }\n",
       "\n",
       "    .dataframe tbody tr th {\n",
       "        vertical-align: top;\n",
       "    }\n",
       "\n",
       "    .dataframe thead th {\n",
       "        text-align: right;\n",
       "    }\n",
       "</style>\n",
       "<table border=\"1\" class=\"dataframe\">\n",
       "  <thead>\n",
       "    <tr style=\"text-align: right;\">\n",
       "      <th></th>\n",
       "      <th>Date (Quarterly)</th>\n",
       "      <th>NorthEast UE%</th>\n",
       "      <th>MidWest UE%</th>\n",
       "      <th>South UE%</th>\n",
       "      <th>West UE%</th>\n",
       "    </tr>\n",
       "  </thead>\n",
       "  <tbody>\n",
       "    <tr>\n",
       "      <th>0</th>\n",
       "      <td>1/1/1976</td>\n",
       "      <td>9.6</td>\n",
       "      <td>6.8</td>\n",
       "      <td>6.9</td>\n",
       "      <td>8.6</td>\n",
       "    </tr>\n",
       "    <tr>\n",
       "      <th>1</th>\n",
       "      <td>2/1/1976</td>\n",
       "      <td>9.6</td>\n",
       "      <td>6.8</td>\n",
       "      <td>6.9</td>\n",
       "      <td>8.6</td>\n",
       "    </tr>\n",
       "    <tr>\n",
       "      <th>2</th>\n",
       "      <td>3/1/1976</td>\n",
       "      <td>9.6</td>\n",
       "      <td>6.8</td>\n",
       "      <td>6.9</td>\n",
       "      <td>8.6</td>\n",
       "    </tr>\n",
       "    <tr>\n",
       "      <th>3</th>\n",
       "      <td>4/1/1976</td>\n",
       "      <td>9.5</td>\n",
       "      <td>6.7</td>\n",
       "      <td>6.8</td>\n",
       "      <td>8.5</td>\n",
       "    </tr>\n",
       "    <tr>\n",
       "      <th>4</th>\n",
       "      <td>5/1/1976</td>\n",
       "      <td>9.5</td>\n",
       "      <td>6.6</td>\n",
       "      <td>6.7</td>\n",
       "      <td>8.4</td>\n",
       "    </tr>\n",
       "  </tbody>\n",
       "</table>\n",
       "</div>"
      ],
      "text/plain": [
       "  Date (Quarterly)  NorthEast UE%  MidWest UE%  South UE%  West UE%\n",
       "0         1/1/1976            9.6          6.8        6.9       8.6\n",
       "1         2/1/1976            9.6          6.8        6.9       8.6\n",
       "2         3/1/1976            9.6          6.8        6.9       8.6\n",
       "3         4/1/1976            9.5          6.7        6.8       8.5\n",
       "4         5/1/1976            9.5          6.6        6.7       8.4"
      ]
     },
     "execution_count": 9,
     "metadata": {},
     "output_type": "execute_result"
    }
   ],
   "source": [
    "# import unemployment file\n",
    "unemployment_file_region = \"Unemployment by Region.csv\"\n",
    "unemployment_data_region = pd.read_csv(unemployment_file_region)\n",
    "unemployment_region = unemployment_data_region.rename(columns={\"LRUN64TTUSQ156S\":\"Unemployment Rate (%)\",\"DATE\":\"Date (Quarterly)\", \"CNERUR\": \"NorthEast UE%\", \"CMWRUR\": \"MidWest UE%\", \"CSOUUR\": \"South UE%\", \"CWSTUR\": \"West UE%\"})\n",
    "unemployment_region.head()"
   ]
  },
  {
   "cell_type": "code",
   "execution_count": 10,
   "metadata": {},
   "outputs": [
    {
     "data": {
      "text/html": [
       "<div>\n",
       "<style scoped>\n",
       "    .dataframe tbody tr th:only-of-type {\n",
       "        vertical-align: middle;\n",
       "    }\n",
       "\n",
       "    .dataframe tbody tr th {\n",
       "        vertical-align: top;\n",
       "    }\n",
       "\n",
       "    .dataframe thead th {\n",
       "        text-align: right;\n",
       "    }\n",
       "</style>\n",
       "<table border=\"1\" class=\"dataframe\">\n",
       "  <thead>\n",
       "    <tr style=\"text-align: right;\">\n",
       "      <th></th>\n",
       "      <th>Date (Quarterly)</th>\n",
       "      <th>NorthEast AHP</th>\n",
       "      <th>MidWest AHP</th>\n",
       "      <th>West AHP</th>\n",
       "      <th>South AHP</th>\n",
       "      <th>NorthEast UE%</th>\n",
       "      <th>MidWest UE%</th>\n",
       "      <th>South UE%</th>\n",
       "      <th>West UE%</th>\n",
       "    </tr>\n",
       "  </thead>\n",
       "  <tbody>\n",
       "    <tr>\n",
       "      <th>0</th>\n",
       "      <td>1/1/1976</td>\n",
       "      <td>48600</td>\n",
       "      <td>45100</td>\n",
       "      <td>49200</td>\n",
       "      <td>43000</td>\n",
       "      <td>9.6</td>\n",
       "      <td>6.8</td>\n",
       "      <td>6.9</td>\n",
       "      <td>8.6</td>\n",
       "    </tr>\n",
       "    <tr>\n",
       "      <th>1</th>\n",
       "      <td>4/1/1976</td>\n",
       "      <td>48100</td>\n",
       "      <td>49400</td>\n",
       "      <td>51600</td>\n",
       "      <td>43700</td>\n",
       "      <td>9.5</td>\n",
       "      <td>6.7</td>\n",
       "      <td>6.8</td>\n",
       "      <td>8.5</td>\n",
       "    </tr>\n",
       "    <tr>\n",
       "      <th>2</th>\n",
       "      <td>7/1/1976</td>\n",
       "      <td>50700</td>\n",
       "      <td>47800</td>\n",
       "      <td>52000</td>\n",
       "      <td>44200</td>\n",
       "      <td>9.4</td>\n",
       "      <td>6.5</td>\n",
       "      <td>6.6</td>\n",
       "      <td>8.5</td>\n",
       "    </tr>\n",
       "    <tr>\n",
       "      <th>3</th>\n",
       "      <td>10/1/1976</td>\n",
       "      <td>53100</td>\n",
       "      <td>52600</td>\n",
       "      <td>54900</td>\n",
       "      <td>44200</td>\n",
       "      <td>9.3</td>\n",
       "      <td>6.5</td>\n",
       "      <td>6.7</td>\n",
       "      <td>8.7</td>\n",
       "    </tr>\n",
       "    <tr>\n",
       "      <th>4</th>\n",
       "      <td>1/1/1977</td>\n",
       "      <td>54000</td>\n",
       "      <td>51500</td>\n",
       "      <td>57900</td>\n",
       "      <td>45100</td>\n",
       "      <td>9.2</td>\n",
       "      <td>6.4</td>\n",
       "      <td>6.8</td>\n",
       "      <td>8.7</td>\n",
       "    </tr>\n",
       "  </tbody>\n",
       "</table>\n",
       "</div>"
      ],
      "text/plain": [
       "  Date (Quarterly)  NorthEast AHP  MidWest AHP  West AHP  South AHP  \\\n",
       "0         1/1/1976          48600        45100     49200      43000   \n",
       "1         4/1/1976          48100        49400     51600      43700   \n",
       "2         7/1/1976          50700        47800     52000      44200   \n",
       "3        10/1/1976          53100        52600     54900      44200   \n",
       "4         1/1/1977          54000        51500     57900      45100   \n",
       "\n",
       "   NorthEast UE%  MidWest UE%  South UE%  West UE%  \n",
       "0            9.6          6.8        6.9       8.6  \n",
       "1            9.5          6.7        6.8       8.5  \n",
       "2            9.4          6.5        6.6       8.5  \n",
       "3            9.3          6.5        6.7       8.7  \n",
       "4            9.2          6.4        6.8       8.7  "
      ]
     },
     "execution_count": 10,
     "metadata": {},
     "output_type": "execute_result"
    }
   ],
   "source": [
    "housing_v_unemployment_region = pd.merge(housing_region, unemployment_region, on=\"Date (Quarterly)\")\n",
    "housing_v_unemployment_region.head()"
   ]
  },
  {
   "cell_type": "code",
   "execution_count": 29,
   "metadata": {},
   "outputs": [
    {
     "ename": "AttributeError",
     "evalue": "module 'matplotlib.pyplot' has no attribute 'set_xlabel'",
     "output_type": "error",
     "traceback": [
      "\u001b[1;31m---------------------------------------------------------------------------\u001b[0m",
      "\u001b[1;31mAttributeError\u001b[0m                            Traceback (most recent call last)",
      "\u001b[1;32m<ipython-input-29-dd79382251e4>\u001b[0m in \u001b[0;36m<module>\u001b[1;34m()\u001b[0m\n\u001b[0;32m     16\u001b[0m \u001b[0max2\u001b[0m\u001b[1;33m.\u001b[0m\u001b[0mplot\u001b[0m\u001b[1;33m(\u001b[0m\u001b[0mx\u001b[0m\u001b[1;33m,\u001b[0m \u001b[0my2\u001b[0m\u001b[1;33m,\u001b[0m \u001b[0mmarker\u001b[0m\u001b[1;33m=\u001b[0m\u001b[1;34m\"s\"\u001b[0m\u001b[1;33m,\u001b[0m \u001b[0mcolor\u001b[0m\u001b[1;33m=\u001b[0m\u001b[1;34m\"Red\"\u001b[0m\u001b[1;33m,\u001b[0m \u001b[0mlinewidth\u001b[0m\u001b[1;33m=\u001b[0m\u001b[1;36m1\u001b[0m\u001b[1;33m,\u001b[0m \u001b[0mlabel\u001b[0m\u001b[1;33m=\u001b[0m\u001b[1;34m\"Unemployment Rate (%)\"\u001b[0m\u001b[1;33m)\u001b[0m\u001b[1;33m\u001b[0m\u001b[0m\n\u001b[0;32m     17\u001b[0m \u001b[0mplt\u001b[0m\u001b[1;33m.\u001b[0m\u001b[0mtitle\u001b[0m\u001b[1;33m(\u001b[0m\u001b[1;34m\"NorthEast Region Home Prices v Unemployment Rate\"\u001b[0m\u001b[1;33m)\u001b[0m\u001b[1;33m\u001b[0m\u001b[0m\n\u001b[1;32m---> 18\u001b[1;33m \u001b[0mplt\u001b[0m\u001b[1;33m.\u001b[0m\u001b[0mset_xlabel\u001b[0m\u001b[1;33m(\u001b[0m\u001b[1;34m\"Date (Quarterly)\"\u001b[0m\u001b[1;33m)\u001b[0m\u001b[1;33m\u001b[0m\u001b[0m\n\u001b[0m\u001b[0;32m     19\u001b[0m \u001b[0mplt\u001b[0m\u001b[1;33m.\u001b[0m\u001b[0mset_y1\u001b[0m\u001b[1;33m(\u001b[0m\u001b[1;34m\"Home Prices\"\u001b[0m\u001b[1;33m)\u001b[0m\u001b[1;33m\u001b[0m\u001b[0m\n\u001b[0;32m     20\u001b[0m \u001b[0mplt\u001b[0m\u001b[1;33m.\u001b[0m\u001b[0mset_y2\u001b[0m\u001b[1;33m(\u001b[0m\u001b[1;34m\"Unemployment Rate (%)\"\u001b[0m\u001b[1;33m)\u001b[0m\u001b[1;33m\u001b[0m\u001b[0m\n",
      "\u001b[1;31mAttributeError\u001b[0m: module 'matplotlib.pyplot' has no attribute 'set_xlabel'"
     ]
    },
    {
     "data": {
      "image/png": "[encoded data removed]",
      "text/plain": [
       "<Figure size 432x288 with 2 Axes>"
      ]
     },
     "metadata": {},
     "output_type": "display_data"
    }
   ],
   "source": [
    "#NORTHEAST\n",
    "\n",
    "import pylab\n",
    "\n",
    "x = housing_v_unemployment_region[\"Date (Quarterly)\"]\n",
    "y1 = housing_v_unemployment_region[\"NorthEast AHP\"]\n",
    "y2 = housing_v_unemployment_region[\"NorthEast UE%\"]\n",
    "\n",
    "#pylab.close('all')\n",
    "\n",
    "fig = pylab.figure()\n",
    "ax1 = fig.add_subplot(111)\n",
    "ax2 = ax1.twinx()\n",
    "\n",
    "ax1.plot(x, y1, marker=\"+\",color=\"blue\", linewidth=1, label=\"Avg House Prices\")\n",
    "ax2.plot(x, y2, marker=\"s\", color=\"Red\", linewidth=1, label=\"Unemployment Rate (%)\")\n",
    "plt.title(\"NorthEast Region Home Prices v Unemployment Rate\")\n",
    "plt.set_xlabel(\"Date (Quarterly)\")\n",
    "plt.set_y1(\"Home Prices\")\n",
    "plt.set_y2(\"Unemployment Rate (%)\")\n",
    "plt.legend(handles=[ax1, ax2], loc=\"best\")\n",
    "plt.tight_layout()\n",
    "\n",
    "fig.show() "
   ]
  },
  {
   "cell_type": "code",
   "execution_count": 13,
   "metadata": {},
   "outputs": [
    {
     "ename": "NameError",
     "evalue": "name 'scipy' is not defined",
     "output_type": "error",
     "traceback": [
      "\u001b[1;31m---------------------------------------------------------------------------\u001b[0m",
      "\u001b[1;31mNameError\u001b[0m                                 Traceback (most recent call last)",
      "\u001b[1;32m<ipython-input-13-7d787efc5922>\u001b[0m in \u001b[0;36m<module>\u001b[1;34m()\u001b[0m\n\u001b[1;32m----> 1\u001b[1;33m \u001b[0mscipy\u001b[0m\u001b[1;33m.\u001b[0m\u001b[0mstats\u001b[0m\u001b[1;33m.\u001b[0m\u001b[0mttest_ind\u001b[0m\u001b[1;33m(\u001b[0m\u001b[0mhousing_v_unemployment_region\u001b[0m\u001b[1;33m[\u001b[0m\u001b[1;34m\"NorthEast AHP\"\u001b[0m\u001b[1;33m]\u001b[0m\u001b[1;33m,\u001b[0m \u001b[0mhousing_v_unemployment_region\u001b[0m\u001b[1;33m[\u001b[0m\u001b[1;34m\"NorthEast UE%\"\u001b[0m\u001b[1;33m]\u001b[0m\u001b[1;33m,\u001b[0m \u001b[0maxis\u001b[0m\u001b[1;33m=\u001b[0m\u001b[1;36m0\u001b[0m\u001b[1;33m,\u001b[0m \u001b[0mequal_var\u001b[0m\u001b[1;33m=\u001b[0m\u001b[1;32mTrue\u001b[0m\u001b[1;33m,\u001b[0m \u001b[0mnan_policy\u001b[0m\u001b[1;33m=\u001b[0m\u001b[1;34m'propagate'\u001b[0m\u001b[1;33m)\u001b[0m\u001b[1;33m[\u001b[0m\u001b[0msource\u001b[0m\u001b[1;33m]\u001b[0m\u001b[1;33m\u001b[0m\u001b[0m\n\u001b[0m",
      "\u001b[1;31mNameError\u001b[0m: name 'scipy' is not defined"
     ]
    }
   ],
   "source": [
    "scipy.stats.ttest_ind(housing_v_unemployment_region[\"NorthEast AHP\"], housing_v_unemployment_region[\"NorthEast UE%\"], axis=0, equal_var=True, nan_policy='propagate')[source]"
   ]
  },
  {
   "cell_type": "code",
   "execution_count": 14,
   "metadata": {},
   "outputs": [
    {
     "data": {
      "text/plain": [
       "F_onewayResult(statistic=484.68607005355364, pvalue=2.151557308470304e-67)"
      ]
     },
     "execution_count": 14,
     "metadata": {},
     "output_type": "execute_result"
    }
   ],
   "source": [
    "stats.f_oneway(housing_v_unemployment_region[\"NorthEast AHP\"], housing_v_unemployment_region[\"NorthEast UE%\"])"
   ]
  },
  {
   "cell_type": "code",
   "execution_count": 15,
   "metadata": {},
   "outputs": [
    {
     "data": {
      "text/plain": [
       "Power_divergenceResult(statistic=3216137662999.9404, pvalue=0.0)"
      ]
     },
     "execution_count": 15,
     "metadata": {},
     "output_type": "execute_result"
    }
   ],
   "source": [
    "stats.chisquare(housing_v_unemployment_region[\"NorthEast AHP\"], housing_v_unemployment_region[\"NorthEast UE%\"])"
   ]
  },
  {
   "cell_type": "code",
   "execution_count": 25,
   "metadata": {},
   "outputs": [
    {
     "name": "stderr",
     "output_type": "stream",
     "text": [
      "C:\\Users\\hoyos\\Anaconda3\\lib\\site-packages\\matplotlib\\figure.py:459: UserWarning: matplotlib is currently using a non-GUI backend, so cannot show the figure\n",
      "  \"matplotlib is currently using a non-GUI backend, \"\n"
     ]
    },
    {
     "data": {
      "image/png": "[encoded data removed]",
      "text/plain": [
       "<Figure size 432x288 with 2 Axes>"
      ]
     },
     "metadata": {},
     "output_type": "display_data"
    }
   ],
   "source": [
    "#MIDWEST\n",
    "\n",
    "x = housing_v_unemployment_region[\"Date (Quarterly)\"]\n",
    "y1 = housing_v_unemployment_region[\"MidWest AHP\"]\n",
    "y2 = housing_v_unemployment_region[\"MidWest UE%\"]\n",
    "\n",
    "fig = pylab.figure()\n",
    "ax1 = fig.add_subplot(111)\n",
    "ax2 = ax1.twinx()\n",
    "\n",
    "ax1.plot(x, y1, marker=\"+\",color=\"blue\", linewidth=1, label=\"Avg House Prices\")\n",
    "ax2.plot(x, y2, marker=\"s\", color=\"Red\", linewidth=1, label=\"Unemployment Rate (%)\")\n",
    "plt.title(\"MidWest Region Home Prices v Unemployment Rate\")\n",
    "\n",
    "fig.show() "
   ]
  },
  {
   "cell_type": "code",
   "execution_count": 17,
   "metadata": {},
   "outputs": [
    {
     "data": {
      "text/plain": [
       "F_onewayResult(statistic=835.4109363720148, pvalue=1.3448474641252144e-93)"
      ]
     },
     "execution_count": 17,
     "metadata": {},
     "output_type": "execute_result"
    }
   ],
   "source": [
    "stats.f_oneway(housing_v_unemployment_region[\"MidWest AHP\"], housing_v_unemployment_region[\"MidWest UE%\"])"
   ]
  },
  {
   "cell_type": "code",
   "execution_count": 18,
   "metadata": {},
   "outputs": [
    {
     "data": {
      "text/plain": [
       "Power_divergenceResult(statistic=1220241138471.0674, pvalue=0.0)"
      ]
     },
     "execution_count": 18,
     "metadata": {},
     "output_type": "execute_result"
    }
   ],
   "source": [
    "stats.chisquare(housing_v_unemployment_region[\"MidWest AHP\"], housing_v_unemployment_region[\"MidWest UE%\"])"
   ]
  },
  {
   "cell_type": "code",
   "execution_count": 19,
   "metadata": {},
   "outputs": [
    {
     "name": "stderr",
     "output_type": "stream",
     "text": [
      "C:\\Users\\hoyos\\Anaconda3\\lib\\site-packages\\matplotlib\\figure.py:459: UserWarning: matplotlib is currently using a non-GUI backend, so cannot show the figure\n",
      "  \"matplotlib is currently using a non-GUI backend, \"\n"
     ]
    },
    {
     "data": {
      "image/png": "[encoded data removed]",
      "text/plain": [
       "<Figure size 432x288 with 2 Axes>"
      ]
     },
     "metadata": {},
     "output_type": "display_data"
    }
   ],
   "source": [
    "#WEST\n",
    "\n",
    "x = housing_v_unemployment_region[\"Date (Quarterly)\"]\n",
    "y1 = housing_v_unemployment_region[\"West AHP\"]\n",
    "y2 = housing_v_unemployment_region[\"West UE%\"]\n",
    "\n",
    "fig = pylab.figure()\n",
    "ax1 = fig.add_subplot(111)\n",
    "ax2 = ax1.twinx()\n",
    "\n",
    "ax1.plot(x, y1, marker=\"+\",color=\"blue\", linewidth=1, label=\"Avg House Prices\")\n",
    "ax2.plot(x, y2, marker=\"s\", color=\"Red\", linewidth=1, label=\"Unemployment Rate (%)\")\n",
    "plt.title(\"West Region Home Prices v Unemployment Rate\")\n",
    "\n",
    "fig.show()"
   ]
  },
  {
   "cell_type": "code",
   "execution_count": 20,
   "metadata": {},
   "outputs": [
    {
     "data": {
      "text/plain": [
       "F_onewayResult(statistic=614.3966113294073, pvalue=3.375407439653569e-78)"
      ]
     },
     "execution_count": 20,
     "metadata": {},
     "output_type": "execute_result"
    }
   ],
   "source": [
    "stats.f_oneway(housing_v_unemployment_region[\"West AHP\"], housing_v_unemployment_region[\"West UE%\"])"
   ]
  },
  {
   "cell_type": "code",
   "execution_count": 21,
   "metadata": {},
   "outputs": [
    {
     "data": {
      "text/plain": [
       "Power_divergenceResult(statistic=2004490556337.0264, pvalue=0.0)"
      ]
     },
     "execution_count": 21,
     "metadata": {},
     "output_type": "execute_result"
    }
   ],
   "source": [
    "stats.chisquare(housing_v_unemployment_region[\"West AHP\"], housing_v_unemployment_region[\"West UE%\"])"
   ]
  },
  {
   "cell_type": "code",
   "execution_count": 24,
   "metadata": {},
   "outputs": [
    {
     "name": "stderr",
     "output_type": "stream",
     "text": [
      "C:\\Users\\hoyos\\Anaconda3\\lib\\site-packages\\matplotlib\\figure.py:459: UserWarning: matplotlib is currently using a non-GUI backend, so cannot show the figure\n",
      "  \"matplotlib is currently using a non-GUI backend, \"\n"
     ]
    },
    {
     "data": {
      "image/png": "[encoded data removed]",
      "text/plain": [
       "<Figure size 432x288 with 2 Axes>"
      ]
     },
     "metadata": {},
     "output_type": "display_data"
    }
   ],
   "source": [
    "#SOUTH\n",
    "\n",
    "x = housing_v_unemployment_region[\"Date (Quarterly)\"]\n",
    "y1 = housing_v_unemployment_region[\"South AHP\"]\n",
    "y2 = housing_v_unemployment_region[\"South UE%\"]\n",
    "\n",
    "fig = pylab.figure()\n",
    "ax1 = fig.add_subplot(111)\n",
    "ax2 = ax1.twinx()\n",
    "\n",
    "ax1.plot(x, y1, marker=\"+\",color=\"blue\", linewidth=1, label=\"Avg House Prices\")\n",
    "ax2.plot(x, y2, marker=\"s\", color=\"Red\", linewidth=1, label=\"Unemployment Rate (%)\")\n",
    "plt.title(\"South Region Home Prices v Unemployment Rate\")\n",
    "\n",
    "fig.show()"
   ]
  },
  {
   "cell_type": "code",
   "execution_count": 23,
   "metadata": {},
   "outputs": [
    {
     "data": {
      "text/plain": [
       "F_onewayResult(statistic=686.3281466917191, pvalue=1.4301672973475165e-83)"
      ]
     },
     "execution_count": 23,
     "metadata": {},
     "output_type": "execute_result"
    }
   ],
   "source": [
    "stats.f_oneway(housing_v_unemployment_region[\"South AHP\"], housing_v_unemployment_region[\"South UE%\"])"
   ]
  },
  {
   "cell_type": "code",
   "execution_count": 22,
   "metadata": {},
   "outputs": [
    {
     "data": {
      "text/plain": [
       "Power_divergenceResult(statistic=1150221424072.9893, pvalue=0.0)"
      ]
     },
     "execution_count": 22,
     "metadata": {},
     "output_type": "execute_result"
    }
   ],
   "source": [
    "stats.chisquare(housing_v_unemployment_region[\"South AHP\"], housing_v_unemployment_region[\"South UE%\"])"
   ]
  },
  {
   "cell_type": "code",
   "execution_count": null,
   "metadata": {},
   "outputs": [],
   "source": []
  }
 ],
 "metadata": {
  "kernelspec": {
   "display_name": "Python 3",
   "language": "python",
   "name": "python3"
  },
  "language_info": {
   "codemirror_mode": {
    "name": "ipython",
    "version": 3
   },
   "file_extension": ".py",
   "mimetype": "text/x-python",
   "name": "python",
   "nbconvert_exporter": "python",
   "pygments_lexer": "ipython3",
   "version": "3.6.5"
  }
 },
 "nbformat": 4,
 "nbformat_minor": 2
}
